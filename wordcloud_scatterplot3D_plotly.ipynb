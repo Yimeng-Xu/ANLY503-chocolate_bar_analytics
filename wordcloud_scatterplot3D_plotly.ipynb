{
 "cells": [
  {
   "cell_type": "markdown",
   "metadata": {},
   "source": [
    "## Data Cleaning"
   ]
  },
  {
   "cell_type": "code",
   "execution_count": null,
   "metadata": {
    "collapsed": true
   },
   "outputs": [],
   "source": [
    "#df.rename(columns = {\n",
    "#    'Company \\n(Maker-if known)': 'Company',\n",
    "#    'Specific Bean Origin\\nor Bar Name': 'Specific Bean Origin or Bar Name',\n",
    "#    'REF': 'Ref',\n",
    "#    'Review\\nDate': 'Review Date',\n",
    "#    'Cocoa\\nPercent': 'Cocoa Percent',\n",
    "#    'Company\\nLocation': 'Company Location',\n",
    "#    'Bean\\nType': 'Bean Type',\n",
    "#    'Broad Bean\\nOrigin': 'Broad Bean Origin'\n",
    "#}, inplace = True)\n",
    "#df['Company (Maker-if known)'] = df.iloc[:,0]\n",
    "#df = df.iloc[:,1:]"
   ]
  },
  {
   "cell_type": "code",
   "execution_count": null,
   "metadata": {
    "collapsed": true
   },
   "outputs": [],
   "source": [
    "#for i in range(len(df['Broad Bean Origin'])):\n",
    "#    if df['Broad Bean Origin'][i] == 'Domincan Republic':\n",
    "#        df['Broad Bean Origin'][i] = 'Dominican Republic'"
   ]
  },
  {
   "cell_type": "code",
   "execution_count": null,
   "metadata": {},
   "outputs": [],
   "source": [
    "#sum(df['Broad Bean Origin'] == 'Domincan Republic')"
   ]
  },
  {
   "cell_type": "code",
   "execution_count": null,
   "metadata": {
    "collapsed": true
   },
   "outputs": [],
   "source": [
    "#df.to_csv(\"flavors_of_cocao_clean.csv\", index = False)"
   ]
  },
  {
   "cell_type": "markdown",
   "metadata": {},
   "source": [
    "## Data Analysis"
   ]
  },
  {
   "cell_type": "code",
   "execution_count": null,
   "metadata": {
    "collapsed": true
   },
   "outputs": [],
   "source": [
    "import pandas as pd\n",
    "import matplotlib.pyplot as plt\n",
    "% matplotlib inline"
   ]
  },
  {
   "cell_type": "code",
   "execution_count": null,
   "metadata": {
    "collapsed": true
   },
   "outputs": [],
   "source": [
    "df = pd.read_csv('flavors_of_cocao_clean.csv')"
   ]
  },
  {
   "cell_type": "markdown",
   "metadata": {},
   "source": [
    "### Replace the Domincan Republic with Dominican Republic"
   ]
  },
  {
   "cell_type": "markdown",
   "metadata": {},
   "source": [
    "## Word Cloud|Python"
   ]
  },
  {
   "cell_type": "code",
   "execution_count": null,
   "metadata": {},
   "outputs": [],
   "source": [
    "from wordcloud import WordCloud\n",
    "from collections import Counter\n",
    "companies = [r for r in df['Company (Maker-if known)']]\n",
    "word_cloud_dict=Counter(companies)\n",
    "### Plot the wordcloud ####\n",
    "wordcloud = WordCloud(background_color = \"white\", \n",
    "        max_font_size = 300,\n",
    "        width = 1000, height = 800\n",
    "    ).generate_from_frequencies(word_cloud_dict)\n",
    "plt.imshow(wordcloud, interpolation = 'bilinear')\n",
    "plt.axis(\"off\")\n",
    "filename = \"companies_wordcloud.png\"\n",
    "plt.savefig(filename, dpi = 800)\n",
    "plt.show()"
   ]
  },
  {
   "cell_type": "code",
   "execution_count": null,
   "metadata": {},
   "outputs": [],
   "source": [
    "sorted(word_cloud_dict.items(), reverse = True, key=lambda kv: kv[1])"
   ]
  },
  {
   "cell_type": "markdown",
   "metadata": {},
   "source": [
    "In the wordcloud, the greater the font size is, the more frequent the company or maker appears in the dataset. Given the dataset with 1795 chocolate bars, the company with the greatest number of chocolate bars are Soma, Bonnat, Fresco, Pralus, A. Morin and so on."
   ]
  },
  {
   "cell_type": "markdown",
   "metadata": {},
   "source": [
    "## plotly|Python"
   ]
  },
  {
   "cell_type": "code",
   "execution_count": null,
   "metadata": {
    "scrolled": true
   },
   "outputs": [],
   "source": [
    "df_company = pd.DataFrame(df.groupby(['Company (Maker-if known)'], as_index = False)['Rating'].mean())\n",
    "df_company.head()\n",
    "df_company['Count'] = pd.DataFrame(df.groupby(['Company (Maker-if known)'], as_index = False)['Rating'].count())['Rating']\n",
    "df_company.head()\n",
    "df_company = df_company.sort_values(['Rating'])\n",
    "#df_company = df_company[df_company['Count'] >= 10]\n",
    "df_company = df_company[df_company['Rating'] >= 3.5]\n",
    "import plotly.graph_objs as go\n",
    "import plotly.plotly as py\n",
    "import numpy as np\n",
    "size = df_company['Count']\n",
    "text = []\n",
    "for index, row in df_company.iterrows():\n",
    "    text.append(row['Company (Maker-if known)'] + '<br>Count: ' + str(row['Count']))\n",
    "trace = go.Scatter(\n",
    "    x = df_company['Company (Maker-if known)'],\n",
    "    y = df_company['Rating'],\n",
    "    mode='markers',\n",
    "    text = text,\n",
    "    marker = dict(\n",
    "        color = '#664021',\n",
    "        opacity = 0.5,\n",
    "        size = size,\n",
    "        sizemode='area',\n",
    "        sizeref=2.*max(size)/(33.**2*2),\n",
    "        sizemin=3\n",
    "    )\n",
    ")\n",
    "\n",
    "layout = go.Layout(\n",
    "    title=\"Companies' Average Dark Chocolate Bar Rating\",\n",
    "    yaxis=dict(\n",
    "        title='Average Rating',\n",
    "        titlefont=dict(\n",
    "            family='Courier New, monospace',\n",
    "            size=18,\n",
    "            color='#7f7f7f'\n",
    "        )\n",
    "    )\n",
    ")\n",
    "\n",
    "data = [trace]\n",
    "fig = go.Figure(data=data, layout=layout)\n",
    "py.iplot(fig, filename = 'company_avg_rating_bubble')"
   ]
  },
  {
   "cell_type": "code",
   "execution_count": null,
   "metadata": {},
   "outputs": [],
   "source": [
    "import plotly\n",
    "plotly.offline.plot(fig, filename='company_avg_rating_bubble.html')"
   ]
  },
  {
   "cell_type": "code",
   "execution_count": null,
   "metadata": {},
   "outputs": [],
   "source": [
    "from plotly.offline.offline import _plot_html\n",
    "plot_html, plotdivid, width, height = _plot_html(\n",
    "    fig, False, \"\", True, '100%', 525)\n",
    "print(plot_html)"
   ]
  },
  {
   "cell_type": "code",
   "execution_count": null,
   "metadata": {},
   "outputs": [],
   "source": [
    "df_country = pd.DataFrame(df.groupby(['Company Location'], as_index = False)['Rating'].mean())\n",
    "df_country.head()"
   ]
  },
  {
   "cell_type": "code",
   "execution_count": null,
   "metadata": {},
   "outputs": [],
   "source": [
    "df_country['Count'] = pd.DataFrame(df.groupby(['Company Location'], as_index = False)['Rating'].count())['Rating']\n",
    "df_country.head()"
   ]
  },
  {
   "cell_type": "code",
   "execution_count": null,
   "metadata": {
    "collapsed": true
   },
   "outputs": [],
   "source": [
    "df_country = df_country.sort_values(['Rating'])"
   ]
  },
  {
   "cell_type": "code",
   "execution_count": null,
   "metadata": {},
   "outputs": [],
   "source": [
    "import plotly.graph_objs as go\n",
    "import plotly.plotly as py\n",
    "import numpy as np\n",
    "size = df_country['Count']\n",
    "text = []\n",
    "for index, row in df_country.iterrows():\n",
    "    text.append(row['Company Location'] + '<br>Count: ' + str(row['Count']))\n",
    "trace = go.Scatter(\n",
    "    x = df_country['Company Location'],\n",
    "    y = df_country['Rating'],\n",
    "    mode='markers',\n",
    "    text = text,\n",
    "    marker = dict(\n",
    "        color = '#664021',\n",
    "        opacity = 0.5,\n",
    "        size = size,\n",
    "        sizemode='area',\n",
    "        sizeref=2.*max(size)/(33.**2),\n",
    "        sizemin=3\n",
    "    )\n",
    ")\n",
    "\n",
    "layout = go.Layout(\n",
    "    title=\"Countries' Average Chocolate Bar Rating\",\n",
    "    yaxis=dict(\n",
    "        title='Average Rating',\n",
    "        titlefont=dict(\n",
    "            family='Courier New, monospace',\n",
    "            size=18,\n",
    "            color='#7f7f7f'\n",
    "        )\n",
    "    )\n",
    ")\n",
    "\n",
    "data = [trace]\n",
    "fig = go.Figure(data=data, layout=layout)\n",
    "py.iplot(fig, filename = 'country_avg_rating_bubble')"
   ]
  },
  {
   "cell_type": "code",
   "execution_count": null,
   "metadata": {},
   "outputs": [],
   "source": [
    "import plotly.graph_objs as go\n",
    "import plotly.plotly as py\n",
    "import numpy as np\n",
    "color = df_country['Count']\n",
    "text = []\n",
    "for index, row in df_country.iterrows():\n",
    "    text.append(row['Company Location'] + '<br>Count: ' + str(row['Count']))\n",
    "\n",
    "trace = go.Scatter(\n",
    "    x = df_country['Company Location'],\n",
    "    y = df_country['Rating'],\n",
    "    mode='markers',\n",
    "    text = text,\n",
    "    marker = dict(\n",
    "        color = color/10,\n",
    "        opacity = 1,\n",
    "        size = 7\n",
    "    )\n",
    ")\n",
    "\n",
    "data = [trace]\n",
    "py.iplot(data, filename = 'avg_rating_vs_company_country')"
   ]
  },
  {
   "cell_type": "code",
   "execution_count": null,
   "metadata": {},
   "outputs": [],
   "source": [
    "df[df['Company Location'] == 'U.S.A.']['Company (Maker-if known)'].unique()"
   ]
  },
  {
   "cell_type": "code",
   "execution_count": null,
   "metadata": {},
   "outputs": [],
   "source": [
    "df.groupby(['Company (Maker-if known)', 'Company Location'], as_index = False)['Rating'].count().sort_values(['Rating'], ascending = False)"
   ]
  },
  {
   "cell_type": "code",
   "execution_count": null,
   "metadata": {},
   "outputs": [],
   "source": [
    "df[df['Company (Maker-if known)'] == 'Bonnat']"
   ]
  },
  {
   "cell_type": "code",
   "execution_count": null,
   "metadata": {},
   "outputs": [],
   "source": [
    "sum(df['Rating'] >= 4)"
   ]
  },
  {
   "cell_type": "code",
   "execution_count": null,
   "metadata": {},
   "outputs": [],
   "source": [
    "df.sort_values(['Rating'], ascending = False)"
   ]
  },
  {
   "cell_type": "code",
   "execution_count": null,
   "metadata": {},
   "outputs": [],
   "source": [
    "df.groupby(['Broad Bean Origin'], as_index = False).count().sort_values(['Ref'], ascending = False)"
   ]
  },
  {
   "cell_type": "code",
   "execution_count": null,
   "metadata": {},
   "outputs": [],
   "source": [
    "df[(df['Company Location'] == 'Italy')&(df['Broad Bean Origin'] == 'Dominican Republic')].shape"
   ]
  },
  {
   "cell_type": "markdown",
   "metadata": {},
   "source": [
    "## 3D Scatterplot"
   ]
  },
  {
   "cell_type": "code",
   "execution_count": null,
   "metadata": {
    "collapsed": true
   },
   "outputs": [],
   "source": [
    "df3d = df[(df['Company (Maker-if known)'] == 'Soma') | \n",
    "          (df['Company (Maker-if known)'] == 'Bonnat') |\n",
    "          (df['Company (Maker-if known)'] == 'Fresco') | \n",
    "          (df['Company (Maker-if known)'] == 'Pralus') | \n",
    "          (df['Company (Maker-if known)'] == 'A. Morin')]"
   ]
  },
  {
   "cell_type": "code",
   "execution_count": null,
   "metadata": {},
   "outputs": [],
   "source": [
    "import plotly.plotly as py\n",
    "import plotly.graph_objs as go\n",
    "from plotly.graph_objs import *\n",
    "import plotly\n",
    "\n",
    "x = df3d['Company (Maker-if known)']\n",
    "y = df3d['Cocoa Percent']\n",
    "z = df3d['Rating']\n",
    "trace1 = go.Scatter3d(\n",
    "    x=x,\n",
    "    y=y,\n",
    "    z=z,\n",
    "    mode='markers',\n",
    "    marker=dict(\n",
    "        size=12,\n",
    "        line=dict(\n",
    "            color='rgba(217, 217, 217, 0.14)',\n",
    "            width=0.5\n",
    "        ),\n",
    "        opacity=0.8\n",
    "    )\n",
    ")\n",
    "\n",
    "x2, y2, z2 = np.random.multivariate_normal(np.array([0,0,0]), np.eye(3), 200).transpose()\n",
    "trace2 = go.Scatter3d(\n",
    "    x=x2,\n",
    "    y=y2,\n",
    "    z=z2,\n",
    "    mode='markers',\n",
    "    marker=dict(\n",
    "        color='rgb(127, 127, 127)',\n",
    "        size=12,\n",
    "        symbol='circle',\n",
    "        line=dict(\n",
    "            color='rgb(204, 204, 204)',\n",
    "            width=1\n",
    "        ),\n",
    "        opacity=0.9\n",
    "    )\n",
    ")\n",
    "\n",
    "data = [trace1]\n",
    "layout = go.Layout(\n",
    "    \n",
    "    title=\"Rating vs Cocoa Percent vs Maker\",\n",
    "    scene=Scene(\n",
    "        xaxis=XAxis(title='Maker or Company'),\n",
    "        yaxis=YAxis(title='Cocoa Percent'),\n",
    "        zaxis=ZAxis(title='Rating')\n",
    "    )\n",
    "    \n",
    "\n",
    ")\n",
    "fig = go.Figure(data=data, layout=layout)\n",
    "py.iplot(fig, filename='Rating vs Cocoa Percent vs Maker')\n",
    "\n",
    "plotly.offline.plot(fig, filename='Rating_vs_Cocoa_Percent_vs_Maker.html')"
   ]
  },
  {
   "cell_type": "markdown",
   "metadata": {},
   "source": [
    "# Data preprocessing for leaflet choropleth map"
   ]
  },
  {
   "cell_type": "code",
   "execution_count": 23,
   "metadata": {},
   "outputs": [],
   "source": [
    "cocoa = pd.read_csv(\"flavors_of_cocao_clean.csv\")\n",
    "geo = pd.read_csv(\"world_geo.csv\")\n",
    "precipitation = pd.read_csv(\"world_precipitation.csv\", skiprows = 4)"
   ]
  },
  {
   "cell_type": "code",
   "execution_count": 24,
   "metadata": {},
   "outputs": [
    {
     "data": {
      "text/html": [
       "<div>\n",
       "<style>\n",
       "    .dataframe thead tr:only-child th {\n",
       "        text-align: right;\n",
       "    }\n",
       "\n",
       "    .dataframe thead th {\n",
       "        text-align: left;\n",
       "    }\n",
       "\n",
       "    .dataframe tbody tr th {\n",
       "        vertical-align: top;\n",
       "    }\n",
       "</style>\n",
       "<table border=\"1\" class=\"dataframe\">\n",
       "  <thead>\n",
       "    <tr style=\"text-align: right;\">\n",
       "      <th></th>\n",
       "      <th>Country Name</th>\n",
       "      <th>2012</th>\n",
       "      <th>2014</th>\n",
       "    </tr>\n",
       "  </thead>\n",
       "  <tbody>\n",
       "    <tr>\n",
       "      <th>0</th>\n",
       "      <td>Aruba</td>\n",
       "      <td>NaN</td>\n",
       "      <td>NaN</td>\n",
       "    </tr>\n",
       "    <tr>\n",
       "      <th>1</th>\n",
       "      <td>Afghanistan</td>\n",
       "      <td>327.0</td>\n",
       "      <td>327.0</td>\n",
       "    </tr>\n",
       "    <tr>\n",
       "      <th>2</th>\n",
       "      <td>Angola</td>\n",
       "      <td>1010.0</td>\n",
       "      <td>1010.0</td>\n",
       "    </tr>\n",
       "    <tr>\n",
       "      <th>3</th>\n",
       "      <td>Albania</td>\n",
       "      <td>1485.0</td>\n",
       "      <td>1485.0</td>\n",
       "    </tr>\n",
       "    <tr>\n",
       "      <th>4</th>\n",
       "      <td>Andorra</td>\n",
       "      <td>NaN</td>\n",
       "      <td>NaN</td>\n",
       "    </tr>\n",
       "  </tbody>\n",
       "</table>\n",
       "</div>"
      ],
      "text/plain": [
       "  Country Name    2012    2014\n",
       "0        Aruba     NaN     NaN\n",
       "1  Afghanistan   327.0   327.0\n",
       "2       Angola  1010.0  1010.0\n",
       "3      Albania  1485.0  1485.0\n",
       "4      Andorra     NaN     NaN"
      ]
     },
     "execution_count": 24,
     "metadata": {},
     "output_type": "execute_result"
    }
   ],
   "source": [
    "precipitation = precipitation[[\"Country Name\", \"2012\", \"2014\"]]\n",
    "precipitation.head()"
   ]
  },
  {
   "cell_type": "markdown",
   "metadata": {
    "collapsed": true
   },
   "source": [
    "## Join the data cocoa data and precipitation data with geo data"
   ]
  },
  {
   "cell_type": "code",
   "execution_count": 34,
   "metadata": {},
   "outputs": [],
   "source": [
    "# Get the number of chocolate bar type count for each origin country\n",
    "cocoa_origin = cocoa.groupby(['Broad Bean Origin'], as_index = False)['Company Location'].count().sort_values(['Company Location'], ascending = False)\n",
    "cocoa_origin.rename(columns = {\n",
    "    'Company Location': 'Chocolate Bar Types'\n",
    "}, inplace = True)\n",
    "cocoa_origin = cocoa_origin[cocoa_origin['Chocolate Bar Types'] >= 10]"
   ]
  },
  {
   "cell_type": "code",
   "execution_count": 55,
   "metadata": {},
   "outputs": [],
   "source": [
    "# Get the average rating for each cocoa bean origin country\n",
    "cocoa_origin_rating = cocoa.groupby(['Broad Bean Origin'], as_index = False)['Rating'].agg(['count', 'mean']).sort_values(['count'], ascending = False)\n",
    "cocoa_origin_rating.rename(columns = {\n",
    "    'count': 'Chocolate Bar Types',\n",
    "    'mean': 'Average Rating'\n",
    "}, inplace = True)\n",
    "cocoa_origin_rating.to_csv(\"cocoa_origin_rating.csv\")"
   ]
  },
  {
   "cell_type": "code",
   "execution_count": 54,
   "metadata": {},
   "outputs": [
    {
     "name": "stdout",
     "output_type": "stream",
     "text": [
      "(26, 2)\n",
      "(26, 13)\n",
      "(264, 3)\n",
      "(264, 14)\n"
     ]
    }
   ],
   "source": [
    "# Join the geo data with cocoa origin data and precipitation data\n",
    "print(cocoa_origin.shape)\n",
    "geo_joined_origin = pd.merge(cocoa_origin, geo, left_on = \"Broad Bean Origin\", right_on = \"NAME\", how = 'left')\n",
    "print(geo_joined_origin.shape)\n",
    "print(precipitation.shape)\n",
    "geo_joined_precipitation = pd.merge(precipitation, geo, left_on = \"Country Name\", right_on = \"NAME\", how = 'left')\n",
    "print(geo_joined_precipitation.shape)"
   ]
  },
  {
   "cell_type": "code",
   "execution_count": 39,
   "metadata": {
    "collapsed": true
   },
   "outputs": [],
   "source": [
    "geo_joined_origin.to_csv(\"geo_joined_origin.csv\", index = False)\n",
    "geo_joined_precipitation.to_csv(\"geo_joined_precipitation.csv\", index = False)"
   ]
  },
  {
   "cell_type": "markdown",
   "metadata": {},
   "source": [
    "## Join the geo data with the cocoa production company data"
   ]
  },
  {
   "cell_type": "code",
   "execution_count": 64,
   "metadata": {},
   "outputs": [
    {
     "data": {
      "text/html": [
       "<div>\n",
       "<style>\n",
       "    .dataframe thead tr:only-child th {\n",
       "        text-align: right;\n",
       "    }\n",
       "\n",
       "    .dataframe thead th {\n",
       "        text-align: left;\n",
       "    }\n",
       "\n",
       "    .dataframe tbody tr th {\n",
       "        vertical-align: top;\n",
       "    }\n",
       "</style>\n",
       "<table border=\"1\" class=\"dataframe\">\n",
       "  <thead>\n",
       "    <tr style=\"text-align: right;\">\n",
       "      <th></th>\n",
       "      <th>Chocolate Bar Type</th>\n",
       "      <th>Average Rating</th>\n",
       "      <th>Company Country</th>\n",
       "    </tr>\n",
       "    <tr>\n",
       "      <th>Company Location</th>\n",
       "      <th></th>\n",
       "      <th></th>\n",
       "      <th></th>\n",
       "    </tr>\n",
       "  </thead>\n",
       "  <tbody>\n",
       "    <tr>\n",
       "      <th>United States</th>\n",
       "      <td>764</td>\n",
       "      <td>3.154123</td>\n",
       "      <td>United States</td>\n",
       "    </tr>\n",
       "    <tr>\n",
       "      <th>France</th>\n",
       "      <td>156</td>\n",
       "      <td>3.251603</td>\n",
       "      <td>France</td>\n",
       "    </tr>\n",
       "    <tr>\n",
       "      <th>Canada</th>\n",
       "      <td>125</td>\n",
       "      <td>3.324000</td>\n",
       "      <td>Canada</td>\n",
       "    </tr>\n",
       "    <tr>\n",
       "      <th>United Kingdom</th>\n",
       "      <td>96</td>\n",
       "      <td>3.054688</td>\n",
       "      <td>United Kingdom</td>\n",
       "    </tr>\n",
       "    <tr>\n",
       "      <th>Italy</th>\n",
       "      <td>63</td>\n",
       "      <td>3.325397</td>\n",
       "      <td>Italy</td>\n",
       "    </tr>\n",
       "  </tbody>\n",
       "</table>\n",
       "</div>"
      ],
      "text/plain": [
       "                  Chocolate Bar Type  Average Rating Company Country\n",
       "Company Location                                                    \n",
       "United States                    764        3.154123   United States\n",
       "France                           156        3.251603          France\n",
       "Canada                           125        3.324000          Canada\n",
       "United Kingdom                    96        3.054688  United Kingdom\n",
       "Italy                             63        3.325397           Italy"
      ]
     },
     "execution_count": 64,
     "metadata": {},
     "output_type": "execute_result"
    }
   ],
   "source": [
    "cocoa_company = cocoa.groupby(['Company Location'])['Rating'].agg(['count', 'mean']).sort_values(['count'], ascending = False)\n",
    "#cocoa_company = cocoa_company[cocoa_company['count'] >= 10]\n",
    "cocoa_company.rename(columns = {\n",
    "    'count': 'Chocolate Bar Type',\n",
    "    'mean': 'Average Rating'\n",
    "}, inplace = True)\n",
    "cocoa_company['Company Country'] = cocoa_company.index\n",
    "cocoa_company.head()"
   ]
  },
  {
   "cell_type": "code",
   "execution_count": 68,
   "metadata": {},
   "outputs": [],
   "source": [
    "geo_joined_company = pd.merge(cocoa_company, geo, left_on = \"Company Country\", right_on = \"NAME\", how = 'left')\n",
    "geo_joined_company.to_csv(\"geo_joined_company.csv\", index = False)"
   ]
  },
  {
   "cell_type": "code",
   "execution_count": null,
   "metadata": {
    "collapsed": true
   },
   "outputs": [],
   "source": []
  }
 ],
 "metadata": {
  "kernelspec": {
   "display_name": "Python 3",
   "language": "python",
   "name": "python3"
  },
  "language_info": {
   "codemirror_mode": {
    "name": "ipython",
    "version": 3
   },
   "file_extension": ".py",
   "mimetype": "text/x-python",
   "name": "python",
   "nbconvert_exporter": "python",
   "pygments_lexer": "ipython3",
   "version": "3.6.3"
  }
 },
 "nbformat": 4,
 "nbformat_minor": 2
}
